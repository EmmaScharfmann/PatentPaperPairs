{
 "cells": [
  {
   "cell_type": "markdown",
   "id": "cb8fe0a9-e982-43da-a492-e4ddfeb52027",
   "metadata": {},
   "source": [
    "This notebook provides the code to generate csv files with metadata on OpenAlex papers that can be downloaded here: https://zenodo.org/records/8278104.   \n",
    "This code was used to generate the files:\n",
    "- 'authoridname.csv'\n",
    "- 'affiliationidnametype.csv'\n",
    "- 'paperauthoridaffiliationIFAVAILABLE'\n",
    "- 'paperyear'\n",
    "- 'papervolisspages'\n",
    "- 'paperpmid'\n",
    "- 'paperjournalid'\n",
    "- 'paperncitesfrompapers'\n",
    "- 'paperdoi'\n",
    "- 'paperauthoridaffiliationIFAVAILABLE.csv'\n",
    "- 'journalidname.csv'\n",
    "- 'paperdoi.csv'\n",
    "- 'paperjournalid.csv'\n",
    "- 'paperncitesfrompapers.csv'\n",
    "- 'paperpmid.csv'\n",
    "- 'papervolisspages.csv'\n",
    "- 'paperyear.csv'\n",
    "- 'paperauthoridorder.csv'\n",
    "  \n",
    "This code requires OpenAlex data in flat files format. "
   ]
  },
  {
   "cell_type": "code",
   "execution_count": 17,
   "id": "5ed431e4-af6a-4105-8ba9-c11ee410604a",
   "metadata": {},
   "outputs": [],
   "source": [
    "## load packages\n",
    "\n",
    "import pandas as pd\n",
    "import glob\n",
    "main_path = '/home/fs01/spec1142/Emma/PPPs/'"
   ]
  },
  {
   "cell_type": "markdown",
   "id": "e18963ff-d677-4b06-9755-059092954d77",
   "metadata": {
    "jp-MarkdownHeadingCollapsed": true
   },
   "source": [
    "## Affiliation id name type"
   ]
  },
  {
   "cell_type": "code",
   "execution_count": 31,
   "id": "b93d786c-91ca-4bb9-b720-333373c0eeca",
   "metadata": {},
   "outputs": [],
   "source": [
    "## load data, rename, save data\n",
    "\n",
    "institutions = pd.read_csv(main_path + 'institutions_up_to_20230817.tsv' , delimiter = '\\t' , usecols = ['institution_id','display_name','type'])\n",
    "institutions = institutions.rename(columns = { 'institution_id' : 'affiliationid' , 'display_name' : 'name' })\n",
    "institutions.to_csv(main_path + \"data_to_post/clean_files/\" + 'affiliationidnametype.csv' , index = False) "
   ]
  },
  {
   "cell_type": "markdown",
   "id": "0ee7cc62-bc83-419a-8e0b-04b2f420347a",
   "metadata": {
    "jp-MarkdownHeadingCollapsed": true
   },
   "source": [
    "## Authors"
   ]
  },
  {
   "cell_type": "code",
   "execution_count": 12,
   "id": "16afceee-9f1e-4bd9-b1a2-c1cf80ea8f50",
   "metadata": {},
   "outputs": [],
   "source": [
    "## load data from GoogleCloud\n",
    "\n",
    "from google.cloud import storage\n",
    "path = '/home/fs01/spec1142/Emma/'\n",
    "path_to_private_key = path + \"openalex-lee-c532eb059285.json\"\n",
    "client_storage = storage.Client.from_service_account_json(json_credentials_path=path_to_private_key)\n",
    "\n",
    "\n",
    "bucket_name = 'openalex-lee'\n",
    "prefix = 'OpenAlex/authors'\n",
    "dl_dir = path + \"PPPs/data_to_post/authors/\" \n",
    "    \n",
    "    \n",
    "bucket = client_storage.get_bucket(bucket_or_name=bucket_name)\n",
    "blobs = bucket.list_blobs(prefix=prefix)  # Get list of files\n",
    "for blob in blobs:\n",
    "    filename = blob.name.replace('/', '_') \n",
    "    blob.download_to_filename(dl_dir + filename)  # Download"
   ]
  },
  {
   "cell_type": "code",
   "execution_count": 1,
   "id": "7c44698d-ed2f-42b9-93b1-f899ac0e30b1",
   "metadata": {
    "scrolled": true
   },
   "outputs": [],
   "source": [
    "## print files\n",
    "\n",
    "import glob \n",
    "path = '/home/fs01/spec1142/Emma/'\n",
    "\n"
   ]
  },
  {
   "cell_type": "markdown",
   "id": "28ce2217-3059-4399-a9ce-15f51e3bcc1d",
   "metadata": {
    "jp-MarkdownHeadingCollapsed": true
   },
   "source": [
    "### Authors"
   ]
  },
  {
   "cell_type": "code",
   "execution_count": 16,
   "id": "38be2870-9fe7-4eba-b2f7-e270fc9d50c3",
   "metadata": {},
   "outputs": [],
   "source": [
    "## Select author files only\n",
    "\n",
    "list_files_authors = glob.glob(path + \"PPPs/data_to_post/authors/OpenAlex_authors_updated_*\" )"
   ]
  },
  {
   "cell_type": "code",
   "execution_count": 26,
   "id": "7ca51250-11f1-454d-a1c9-d92351c0e7a5",
   "metadata": {},
   "outputs": [],
   "source": [
    "## load, rename, save file\n",
    "\n",
    "import pandas as pd \n",
    "\n",
    "file_authors = pd.concat( [ pd.read_csv( main_path  + elem , delimiter = \"\\t\", usecols = [\"author_id\",\"display_name\"]) for elem in list_files_authors])\n",
    "file_authors = file_authors.rename(columns = { 'author_id' : 'authorid' , 'display_name' : 'authorname' })\n",
    "file_authors.to_csv(main_path + \"data_to_post/clean_files/\" + 'authoridname.csv' , index = False) "
   ]
  },
  {
   "cell_type": "code",
   "execution_count": 36,
   "id": "493e334d-252e-499c-a9ec-9e04c55fb5dd",
   "metadata": {},
   "outputs": [
    {
     "data": {
      "text/html": [
       "<div>\n",
       "<style scoped>\n",
       "    .dataframe tbody tr th:only-of-type {\n",
       "        vertical-align: middle;\n",
       "    }\n",
       "\n",
       "    .dataframe tbody tr th {\n",
       "        vertical-align: top;\n",
       "    }\n",
       "\n",
       "    .dataframe thead th {\n",
       "        text-align: right;\n",
       "    }\n",
       "</style>\n",
       "<table border=\"1\" class=\"dataframe\">\n",
       "  <thead>\n",
       "    <tr style=\"text-align: right;\">\n",
       "      <th></th>\n",
       "      <th>authorid</th>\n",
       "      <th>authorname</th>\n",
       "    </tr>\n",
       "  </thead>\n",
       "  <tbody>\n",
       "    <tr>\n",
       "      <th>0</th>\n",
       "      <td>A4347464006</td>\n",
       "      <td>Lucero Molina</td>\n",
       "    </tr>\n",
       "    <tr>\n",
       "      <th>0</th>\n",
       "      <td>A4330392039</td>\n",
       "      <td>Thibault Mayor</td>\n",
       "    </tr>\n",
       "    <tr>\n",
       "      <th>0</th>\n",
       "      <td>A4225353913</td>\n",
       "      <td>Valentina Politi</td>\n",
       "    </tr>\n",
       "    <tr>\n",
       "      <th>0</th>\n",
       "      <td>A4379737106</td>\n",
       "      <td>Dina Tarek</td>\n",
       "    </tr>\n",
       "    <tr>\n",
       "      <th>1</th>\n",
       "      <td>A4379737109</td>\n",
       "      <td>Yitian Sun</td>\n",
       "    </tr>\n",
       "    <tr>\n",
       "      <th>...</th>\n",
       "      <td>...</td>\n",
       "      <td>...</td>\n",
       "    </tr>\n",
       "    <tr>\n",
       "      <th>304180</th>\n",
       "      <td>A5091901145</td>\n",
       "      <td>A. I. Bush</td>\n",
       "    </tr>\n",
       "    <tr>\n",
       "      <th>304181</th>\n",
       "      <td>A5091907166</td>\n",
       "      <td>Aleksandra Volkova</td>\n",
       "    </tr>\n",
       "    <tr>\n",
       "      <th>304182</th>\n",
       "      <td>A5091910692</td>\n",
       "      <td>K. V. Pavelec</td>\n",
       "    </tr>\n",
       "    <tr>\n",
       "      <th>304183</th>\n",
       "      <td>A5091913047</td>\n",
       "      <td>F. H. Gladwin</td>\n",
       "    </tr>\n",
       "    <tr>\n",
       "      <th>304184</th>\n",
       "      <td>A5091914373</td>\n",
       "      <td>G Koppány</td>\n",
       "    </tr>\n",
       "  </tbody>\n",
       "</table>\n",
       "<p>91748427 rows × 2 columns</p>\n",
       "</div>"
      ],
      "text/plain": [
       "           authorid          authorname\n",
       "0       A4347464006       Lucero Molina\n",
       "0       A4330392039      Thibault Mayor\n",
       "0       A4225353913    Valentina Politi\n",
       "0       A4379737106          Dina Tarek\n",
       "1       A4379737109          Yitian Sun\n",
       "...             ...                 ...\n",
       "304180  A5091901145          A. I. Bush\n",
       "304181  A5091907166  Aleksandra Volkova\n",
       "304182  A5091910692       K. V. Pavelec\n",
       "304183  A5091913047       F. H. Gladwin\n",
       "304184  A5091914373           G Koppány\n",
       "\n",
       "[91748427 rows x 2 columns]"
      ]
     },
     "execution_count": 36,
     "metadata": {},
     "output_type": "execute_result"
    }
   ],
   "source": [
    "file_authors"
   ]
  },
  {
   "cell_type": "markdown",
   "id": "8963afab-5c91-4710-a03d-97af2139cd5e",
   "metadata": {
    "jp-MarkdownHeadingCollapsed": true
   },
   "source": [
    "### Authors - works"
   ]
  },
  {
   "cell_type": "code",
   "execution_count": 4,
   "id": "1f74f255-2236-460a-b276-10d7126723fe",
   "metadata": {},
   "outputs": [],
   "source": [
    "## select works-authors files only\n",
    "\n",
    "list_works_authors = glob.glob(path + \"PPPs/data_to_post/authors/OpenAlex_authors_works_*\" )"
   ]
  },
  {
   "cell_type": "code",
   "execution_count": 10,
   "id": "a208a4d3-7427-4c9c-ba74-c0b7302a7c00",
   "metadata": {
    "scrolled": true
   },
   "outputs": [
    {
     "name": "stderr",
     "output_type": "stream",
     "text": [
      " 93%|██████████████████████████████████████▏  | 122/131 [00:36<00:27,  3.08s/it]/tmp/ipykernel_4885/2115988506.py:5: DtypeWarning: Columns (0,1,2,3) have mixed types. Specify dtype option on import or set low_memory=False.\n",
      "  df = pd.read_csv(  file , delimiter = \"\\t\")\n",
      " 94%|██████████████████████████████████████▍  | 123/131 [05:37<12:12, 91.60s/it]/tmp/ipykernel_4885/2115988506.py:5: DtypeWarning: Columns (0,1,2,3) have mixed types. Specify dtype option on import or set low_memory=False.\n",
      "  df = pd.read_csv(  file , delimiter = \"\\t\")\n",
      " 95%|█████████████████████████████████████▊  | 124/131 [16:43<30:36, 262.35s/it]/tmp/ipykernel_4885/2115988506.py:5: DtypeWarning: Columns (0,1,2,3) have mixed types. Specify dtype option on import or set low_memory=False.\n",
      "  df = pd.read_csv(  file , delimiter = \"\\t\")\n",
      " 95%|██████████████████████████████████████▏ | 125/131 [24:23<32:07, 321.26s/it]/tmp/ipykernel_4885/2115988506.py:5: DtypeWarning: Columns (0,1,2,3) have mixed types. Specify dtype option on import or set low_memory=False.\n",
      "  df = pd.read_csv(  file , delimiter = \"\\t\")\n",
      " 96%|██████████████████████████████████████▍ | 126/131 [30:04<27:16, 327.26s/it]/tmp/ipykernel_4885/2115988506.py:5: DtypeWarning: Columns (0,1,2,3) have mixed types. Specify dtype option on import or set low_memory=False.\n",
      "  df = pd.read_csv(  file , delimiter = \"\\t\")\n",
      " 97%|██████████████████████████████████████▊ | 127/131 [32:15<17:54, 268.55s/it]/tmp/ipykernel_4885/2115988506.py:5: DtypeWarning: Columns (0,1,2,3) have mixed types. Specify dtype option on import or set low_memory=False.\n",
      "  df = pd.read_csv(  file , delimiter = \"\\t\")\n",
      " 98%|███████████████████████████████████████ | 128/131 [37:34<14:10, 283.37s/it]/tmp/ipykernel_4885/2115988506.py:5: DtypeWarning: Columns (0,1,2,3) have mixed types. Specify dtype option on import or set low_memory=False.\n",
      "  df = pd.read_csv(  file , delimiter = \"\\t\")\n",
      " 98%|███████████████████████████████████████▍| 129/131 [42:23<09:30, 285.33s/it]/tmp/ipykernel_4885/2115988506.py:5: DtypeWarning: Columns (0,1,2,3) have mixed types. Specify dtype option on import or set low_memory=False.\n",
      "  df = pd.read_csv(  file , delimiter = \"\\t\")\n",
      " 99%|███████████████████████████████████████▋| 130/131 [52:03<06:13, 373.59s/it]/tmp/ipykernel_4885/2115988506.py:5: DtypeWarning: Columns (0,1,2,3) have mixed types. Specify dtype option on import or set low_memory=False.\n",
      "  df = pd.read_csv(  file , delimiter = \"\\t\")\n",
      "100%|█████████████████████████████████████████| 131/131 [59:51<00:00, 27.42s/it]\n"
     ]
    }
   ],
   "source": [
    "## add entity letter in front of the ID. \n",
    "\n",
    "import pandas as pd \n",
    "from tqdm import tqdm \n",
    "\n",
    "for file in tqdm(list_works_authors):\n",
    "    df = pd.read_csv(  file , delimiter = \"\\t\")\n",
    "    df['work_id'] = [ 'W' + str(elem) for elem in df['work_id']]\n",
    "    df['author_id'] = [ 'A' + str(elem) for elem in df['author_id']]\n",
    "    df['institution_id'] = [ 'I' + str(elem).split('.')[0] if pd.isna(elem) == False else elem for elem in df['institution_id']]\n",
    "    df.to_csv(  file , sep = \"\\t\", index = False)"
   ]
  },
  {
   "cell_type": "code",
   "execution_count": 5,
   "id": "64908850-1c3c-453d-b651-00009360d1b3",
   "metadata": {},
   "outputs": [],
   "source": [
    "## load, rename, save files (small files)\n",
    "\n",
    "file_authors_works = pd.concat( [ pd.read_csv(   elem , delimiter = \"\\t\") for elem in list_works_authors[:-10]])\n",
    "file_authors_works = file_authors_works.rename(columns = { 'work_id' : 'oaid' , 'author_id' : 'authorid' , 'institution_id' : 'affiliationid' , 'institution_name' : 'affiliationameifnoid' })                                            \n",
    "file_authors_works = file_authors_works[file_authors_works['oaid'] != 'Wwork_id'] \n",
    "file_authors_works.to_csv(main_path + \"data_to_post/clean_files/\" + 'paperauthoridaffiliationIFAVAILABLE/file1.csv' , index = False) "
   ]
  },
  {
   "cell_type": "code",
   "execution_count": 12,
   "id": "2dc14e89-c0ac-4429-a20a-e734b2276735",
   "metadata": {},
   "outputs": [
    {
     "data": {
      "text/html": [
       "<div>\n",
       "<style scoped>\n",
       "    .dataframe tbody tr th:only-of-type {\n",
       "        vertical-align: middle;\n",
       "    }\n",
       "\n",
       "    .dataframe tbody tr th {\n",
       "        vertical-align: top;\n",
       "    }\n",
       "\n",
       "    .dataframe thead th {\n",
       "        text-align: right;\n",
       "    }\n",
       "</style>\n",
       "<table border=\"1\" class=\"dataframe\">\n",
       "  <thead>\n",
       "    <tr style=\"text-align: right;\">\n",
       "      <th></th>\n",
       "      <th>oaid</th>\n",
       "      <th>authorid</th>\n",
       "      <th>affiliationid</th>\n",
       "      <th>affiliationameifnoid</th>\n",
       "    </tr>\n",
       "  </thead>\n",
       "  <tbody>\n",
       "    <tr>\n",
       "      <th>27</th>\n",
       "      <td>W2590154271</td>\n",
       "      <td>A2590585227</td>\n",
       "      <td>NaN</td>\n",
       "      <td>Clinical Instructor, King Fahad Medical City, ...</td>\n",
       "    </tr>\n",
       "    <tr>\n",
       "      <th>29</th>\n",
       "      <td>W2590154271</td>\n",
       "      <td>A2661761770</td>\n",
       "      <td>NaN</td>\n",
       "      <td>Clinical Instructor, Al Amal Complex for Menta...</td>\n",
       "    </tr>\n",
       "    <tr>\n",
       "      <th>36</th>\n",
       "      <td>W631075702</td>\n",
       "      <td>A1987814616</td>\n",
       "      <td>NaN</td>\n",
       "      <td>Nurse Manager, Fairleigh Lodge, Auckland, New ...</td>\n",
       "    </tr>\n",
       "    <tr>\n",
       "      <th>67</th>\n",
       "      <td>W2594753679</td>\n",
       "      <td>A2592423679</td>\n",
       "      <td>NaN</td>\n",
       "      <td>Executive Director, CARE Centre for Internatio...</td>\n",
       "    </tr>\n",
       "    <tr>\n",
       "      <th>96</th>\n",
       "      <td>W2994201468</td>\n",
       "      <td>A2688736441</td>\n",
       "      <td>NaN</td>\n",
       "      <td>WordMeridian Communications.</td>\n",
       "    </tr>\n",
       "    <tr>\n",
       "      <th>...</th>\n",
       "      <td>...</td>\n",
       "      <td>...</td>\n",
       "      <td>...</td>\n",
       "      <td>...</td>\n",
       "    </tr>\n",
       "    <tr>\n",
       "      <th>94872</th>\n",
       "      <td>W955277603</td>\n",
       "      <td>A4345380707</td>\n",
       "      <td>NaN</td>\n",
       "      <td>Université Grenoble Alpes - UFR Langage, lettr...</td>\n",
       "    </tr>\n",
       "    <tr>\n",
       "      <th>94927</th>\n",
       "      <td>W96478308</td>\n",
       "      <td>A2551780365</td>\n",
       "      <td>NaN</td>\n",
       "      <td>Université Grenoble Alpes - UFR Langage, lettr...</td>\n",
       "    </tr>\n",
       "    <tr>\n",
       "      <th>95143</th>\n",
       "      <td>W996452691</td>\n",
       "      <td>A341007127</td>\n",
       "      <td>NaN</td>\n",
       "      <td>Escuela Superior de Guerra, , Buenos Aires, Ar...</td>\n",
       "    </tr>\n",
       "    <tr>\n",
       "      <th>1259</th>\n",
       "      <td>W4292532348</td>\n",
       "      <td>A2953613218</td>\n",
       "      <td>NaN</td>\n",
       "      <td>Philosophies contemporaines</td>\n",
       "    </tr>\n",
       "    <tr>\n",
       "      <th>6</th>\n",
       "      <td>W2074879341</td>\n",
       "      <td>A4358424515</td>\n",
       "      <td>NaN</td>\n",
       "      <td>Cattedra di Chirurgia Plastica, Università deg...</td>\n",
       "    </tr>\n",
       "  </tbody>\n",
       "</table>\n",
       "<p>3837 rows × 4 columns</p>\n",
       "</div>"
      ],
      "text/plain": [
       "              oaid     authorid affiliationid  \\\n",
       "27     W2590154271  A2590585227           NaN   \n",
       "29     W2590154271  A2661761770           NaN   \n",
       "36      W631075702  A1987814616           NaN   \n",
       "67     W2594753679  A2592423679           NaN   \n",
       "96     W2994201468  A2688736441           NaN   \n",
       "...            ...          ...           ...   \n",
       "94872   W955277603  A4345380707           NaN   \n",
       "94927    W96478308  A2551780365           NaN   \n",
       "95143   W996452691   A341007127           NaN   \n",
       "1259   W4292532348  A2953613218           NaN   \n",
       "6      W2074879341  A4358424515           NaN   \n",
       "\n",
       "                                    affiliationameifnoid  \n",
       "27     Clinical Instructor, King Fahad Medical City, ...  \n",
       "29     Clinical Instructor, Al Amal Complex for Menta...  \n",
       "36     Nurse Manager, Fairleigh Lodge, Auckland, New ...  \n",
       "67     Executive Director, CARE Centre for Internatio...  \n",
       "96                          WordMeridian Communications.  \n",
       "...                                                  ...  \n",
       "94872  Université Grenoble Alpes - UFR Langage, lettr...  \n",
       "94927  Université Grenoble Alpes - UFR Langage, lettr...  \n",
       "95143  Escuela Superior de Guerra, , Buenos Aires, Ar...  \n",
       "1259                         Philosophies contemporaines  \n",
       "6      Cattedra di Chirurgia Plastica, Università deg...  \n",
       "\n",
       "[3837 rows x 4 columns]"
      ]
     },
     "execution_count": 12,
     "metadata": {},
     "output_type": "execute_result"
    }
   ],
   "source": [
    "file_authors_works[file_authors_works['affiliationameifnoid'].notnull()]"
   ]
  },
  {
   "cell_type": "code",
   "execution_count": 14,
   "id": "7d2b7531-0d8b-45d7-bc75-abd48992264e",
   "metadata": {},
   "outputs": [
    {
     "name": "stdout",
     "output_type": "stream",
     "text": [
      "3\n"
     ]
    },
    {
     "name": "stderr",
     "output_type": "stream",
     "text": [
      "/tmp/ipykernel_7767/1400383148.py:4: DtypeWarning: Columns (3) have mixed types. Specify dtype option on import or set low_memory=False.\n",
      "  file_authors_works = pd.read_csv(   elem , delimiter = \"\\t\")\n"
     ]
    },
    {
     "name": "stdout",
     "output_type": "stream",
     "text": [
      "4\n"
     ]
    },
    {
     "name": "stderr",
     "output_type": "stream",
     "text": [
      "/tmp/ipykernel_7767/1400383148.py:4: DtypeWarning: Columns (3) have mixed types. Specify dtype option on import or set low_memory=False.\n",
      "  file_authors_works = pd.read_csv(   elem , delimiter = \"\\t\")\n"
     ]
    },
    {
     "name": "stdout",
     "output_type": "stream",
     "text": [
      "5\n"
     ]
    },
    {
     "name": "stderr",
     "output_type": "stream",
     "text": [
      "/tmp/ipykernel_7767/1400383148.py:4: DtypeWarning: Columns (3) have mixed types. Specify dtype option on import or set low_memory=False.\n",
      "  file_authors_works = pd.read_csv(   elem , delimiter = \"\\t\")\n"
     ]
    },
    {
     "name": "stdout",
     "output_type": "stream",
     "text": [
      "6\n"
     ]
    },
    {
     "name": "stderr",
     "output_type": "stream",
     "text": [
      "/tmp/ipykernel_7767/1400383148.py:4: DtypeWarning: Columns (3) have mixed types. Specify dtype option on import or set low_memory=False.\n",
      "  file_authors_works = pd.read_csv(   elem , delimiter = \"\\t\")\n"
     ]
    },
    {
     "name": "stdout",
     "output_type": "stream",
     "text": [
      "7\n"
     ]
    },
    {
     "name": "stderr",
     "output_type": "stream",
     "text": [
      "/tmp/ipykernel_7767/1400383148.py:4: DtypeWarning: Columns (2,3) have mixed types. Specify dtype option on import or set low_memory=False.\n",
      "  file_authors_works = pd.read_csv(   elem , delimiter = \"\\t\")\n"
     ]
    },
    {
     "name": "stdout",
     "output_type": "stream",
     "text": [
      "8\n"
     ]
    },
    {
     "name": "stderr",
     "output_type": "stream",
     "text": [
      "/tmp/ipykernel_7767/1400383148.py:4: DtypeWarning: Columns (3) have mixed types. Specify dtype option on import or set low_memory=False.\n",
      "  file_authors_works = pd.read_csv(   elem , delimiter = \"\\t\")\n"
     ]
    },
    {
     "name": "stdout",
     "output_type": "stream",
     "text": [
      "9\n"
     ]
    },
    {
     "name": "stderr",
     "output_type": "stream",
     "text": [
      "/tmp/ipykernel_7767/1400383148.py:4: DtypeWarning: Columns (3) have mixed types. Specify dtype option on import or set low_memory=False.\n",
      "  file_authors_works = pd.read_csv(   elem , delimiter = \"\\t\")\n"
     ]
    },
    {
     "name": "stdout",
     "output_type": "stream",
     "text": [
      "10\n"
     ]
    },
    {
     "name": "stderr",
     "output_type": "stream",
     "text": [
      "/tmp/ipykernel_7767/1400383148.py:4: DtypeWarning: Columns (3) have mixed types. Specify dtype option on import or set low_memory=False.\n",
      "  file_authors_works = pd.read_csv(   elem , delimiter = \"\\t\")\n"
     ]
    },
    {
     "name": "stdout",
     "output_type": "stream",
     "text": [
      "11\n"
     ]
    },
    {
     "name": "stderr",
     "output_type": "stream",
     "text": [
      "/tmp/ipykernel_7767/1400383148.py:4: DtypeWarning: Columns (3) have mixed types. Specify dtype option on import or set low_memory=False.\n",
      "  file_authors_works = pd.read_csv(   elem , delimiter = \"\\t\")\n"
     ]
    },
    {
     "name": "stdout",
     "output_type": "stream",
     "text": [
      "12\n"
     ]
    }
   ],
   "source": [
    "## load, rename, save files (big files)\n",
    "\n",
    "k = 2\n",
    "\n",
    "for elem in list_works_authors[-10:]:\n",
    "    file_authors_works = pd.read_csv(   elem , delimiter = \"\\t\")\n",
    "    file_authors_works = file_authors_works.rename(columns = { 'work_id' : 'oaid' , 'author_id' : 'authorid' , 'institution_id' : 'affiliationid' , 'institution_name' : 'affiliationameifnoid' })                                            \n",
    "    file_authors_works = file_authors_works[file_authors_works['oaid'] != 'Wwork_id'] \n",
    "    file_authors_works.to_csv(main_path + \"data_to_post/clean_files/\" + 'paperauthoridaffiliationIFAVAILABLE/file' + str(k) + '.csv' , index = False) \n",
    "    k += 1\n",
    "    print(k)\n",
    "    \n",
    "    "
   ]
  },
  {
   "cell_type": "markdown",
   "id": "0d98e192-6b6d-4ff1-b4f0-5fd130449250",
   "metadata": {
    "jp-MarkdownHeadingCollapsed": true
   },
   "source": [
    "## Works"
   ]
  },
  {
   "cell_type": "code",
   "execution_count": 109,
   "id": "0905c483-4e3a-4a6d-98b1-311c41d87bf2",
   "metadata": {
    "scrolled": true
   },
   "outputs": [],
   "source": [
    "path = '/home/fs01/spec1142/Emma/'\n",
    "list_files_works = glob.glob(path + \"PPPs/data_to_post/works/*\" )[:128]"
   ]
  },
  {
   "cell_type": "code",
   "execution_count": 110,
   "id": "d987fa77-e3d7-4a50-8a4a-401fa1eb19b1",
   "metadata": {},
   "outputs": [
    {
     "name": "stderr",
     "output_type": "stream",
     "text": [
      "/tmp/ipykernel_7767/1543614590.py:3: DtypeWarning: Columns (2) have mixed types. Specify dtype option on import or set low_memory=False.\n",
      "  file_works = pd.concat( [ pd.read_csv(  elem , delimiter = \"\\t\", on_bad_lines = 'skip',lineterminator='\\n', usecols = ['work_id', 'doi', 'pmid', 'venue_or_source', 'first_page', 'last_page',\n"
     ]
    }
   ],
   "source": [
    "## load, rename, save files (small files)\n",
    "\n",
    "\n",
    "import pandas as pd \n",
    "\n",
    "file_works = pd.concat( [ pd.read_csv(  elem , delimiter = \"\\t\", on_bad_lines = 'skip',lineterminator='\\n', usecols = ['work_id', 'doi', 'pmid', 'venue_or_source', 'first_page', 'last_page',\n",
    "       'volume', 'issue', 'cited_by_count','publication_date']) for elem in list_files_works])\n",
    "\n",
    "file_works['work_id'] = [ \"W\" + str(elem) for elem in file_works['work_id'] ] \n",
    "file_works['venue_or_source'] = [ \"S\" + str(elem) for elem in file_works['venue_or_source'] ] \n",
    "file_works['paperyear'] = [ elem[:4] if pd.isna(elem) == False else elem for elem in file_works['venue_or_source'] ] \n",
    "\n",
    "file_works = file_works.rename(columns = {'work_id' : 'oaid', 'venue_or_source': 'journalid', 'volume': 'papervolume' , 'issue' : 'paperissue' , 'first_page': 'paperIstpage' , 'last_page' : 'paperlastpage' , 'cited_by_count':'numcitesfrompapers'   } ) \n",
    "\n",
    "\n",
    "\n",
    "file_works[file_works['paperyear'].notnull()][['oaid','paperyear']].to_csv(path + 'PPPs/data_to_post/clean_files/paperyear/file1.csv' , index = False)\n",
    "file_works[file_works['doi'].notnull()][['oaid','doi']].to_csv(path + 'PPPs/data_to_post/clean_files/paperdoi/file1.csv'  , index = False)\n",
    "file_works[file_works['pmid'].notnull()][['oaid','pmid']].to_csv(path + 'PPPs/data_to_post/clean_files/paperpmid/file1.csv'  , index = False)\n",
    "file_works[file_works['journalid'].notnull()][['oaid','journalid']].to_csv(path + 'PPPs/data_to_post/clean_files/paperjournalid/file1.csv'  , index = False)\n",
    "file_works[file_works['numcitesfrompapers'].notnull()][['oaid','numcitesfrompapers']].to_csv(path + 'PPPs/data_to_post/clean_files/paperncitesfrompapers/file1.csv'  , index = False)\n",
    "file_works[['oaid','papervolume','paperissue','paperIstpage','paperlastpage']].to_csv(path + 'PPPs/data_to_post/clean_files/papervolisspages/file1.csv'  , index = False)\n",
    "\n"
   ]
  },
  {
   "cell_type": "code",
   "execution_count": 106,
   "id": "a4f71c0e-4f46-480c-880c-069b23d81eb0",
   "metadata": {},
   "outputs": [],
   "source": [
    "## load, rename, save files (big files)\n",
    "\n",
    "import pandas as pd \n",
    "\n",
    "\n",
    "def clean_files(k):\n",
    "\n",
    "    day = k + 8\n",
    "\n",
    "    list_files_works = glob.glob(path + \"PPPs/data_to_post/works/OpenAlex_works_updated_date=2023-08-\" + str(day) + '_*' )\n",
    "    \n",
    "    \n",
    "    file_works = pd.concat( [ pd.read_csv(  elem , delimiter = \"\\t\", on_bad_lines = 'skip',lineterminator='\\n', usecols = ['work_id', 'doi', 'pmid', 'venue_or_source', 'first_page', 'last_page',\n",
    "           'volume', 'issue', 'cited_by_count','publication_date']) for elem in list_files_works])\n",
    "    \n",
    "    file_works['work_id'] = [ \"W\" + str(elem) for elem in file_works['work_id'] ] \n",
    "    file_works['venue_or_source'] = [ \"S\" + str(elem) for elem in file_works['venue_or_source'] ] \n",
    "    file_works['paperyear'] = [ elem[:4] if pd.isna(elem) == False else elem for elem in file_works['venue_or_source'] ] \n",
    "    \n",
    "    file_works = file_works.rename(columns = {'work_id' : 'oaid', 'venue_or_source': 'journalid', 'volume': 'papervolume' , 'issue' : 'paperissue' , 'first_page': 'paperIstpage' , 'last_page' : 'paperlastpage' , 'cited_by_count':'numcitesfrompapers'   } ) \n",
    "    \n",
    "    \n",
    "    \n",
    "    file_works[file_works['paperyear'].notnull()][['oaid','paperyear']].to_csv(path + 'PPPs/data_to_post/clean_files/paperyear/file' + str(k) + '.csv'  , index = False)\n",
    "    file_works[file_works['doi'].notnull()][['oaid','doi']].to_csv(path + 'PPPs/data_to_post/clean_files/paperdoi/file' + str(k) + '.csv'  , index = False)\n",
    "    file_works[file_works['pmid'].notnull()][['oaid','pmid']].to_csv(path + 'PPPs/data_to_post/clean_files/paperpmid/file' + str(k) + '.csv' , index = False)\n",
    "    file_works[file_works['journalid'].notnull()][['oaid','journalid']].to_csv(path + 'PPPs/data_to_post/clean_files/paperjournalid/file' + str(k) + '.csv'  , index = False)\n",
    "    file_works[file_works['numcitesfrompapers'].notnull()][['oaid','numcitesfrompapers']].to_csv(path + 'PPPs/data_to_post/clean_files/paperncitesfrompapers/file' + str(k) + '.csv' , index = False)\n",
    "    file_works[['oaid','papervolume','paperissue','paperIstpage','paperlastpage']].to_csv(path + 'PPPs/data_to_post/clean_files/papervolisspages/file' + str(k) + '.csv'  , index = False)\n",
    "    \n"
   ]
  },
  {
   "cell_type": "code",
   "execution_count": null,
   "id": "264036da-8e5e-4fa3-b7c1-e4f52b316291",
   "metadata": {},
   "outputs": [],
   "source": [
    "## parallelize the code\n",
    "\n",
    "import warnings\n",
    "\n",
    "        \n",
    "from multiprocessing import Process\n",
    "\n",
    "\n",
    "if __name__ == '__main__':\n",
    "    with warnings.catch_warnings():\n",
    "        warnings.simplefilter(\"ignore\",UserWarning)\n",
    "        \n",
    "        processes = [Process(target=clean_files, args=(k,)) for k in range(2,11)]\n",
    "        \n",
    "        for process in processes:\n",
    "            process.start()\n",
    "            \n",
    "        for process in processes:\n",
    "            process.join()"
   ]
  },
  {
   "cell_type": "markdown",
   "id": "2a7fca32-dee8-4895-bbd1-2f1bd8103742",
   "metadata": {
    "jp-MarkdownHeadingCollapsed": true
   },
   "source": [
    "## code to merge files in bash\n",
    "\n",
    "head -n 1 authorid_workid_1.tsv > authorid_workid.tsv  \n",
    "for file in authorid_workid_*.tsv; do  \n",
    "  tail -n +2 \"$file\" >> authorid_workid.tsv  \n",
    "done"
   ]
  }
 ],
 "metadata": {
  "kernelspec": {
   "display_name": "Python 3 (ipykernel)",
   "language": "python",
   "name": "python3"
  },
  "language_info": {
   "codemirror_mode": {
    "name": "ipython",
    "version": 3
   },
   "file_extension": ".py",
   "mimetype": "text/x-python",
   "name": "python",
   "nbconvert_exporter": "python",
   "pygments_lexer": "ipython3",
   "version": "3.9.12"
  }
 },
 "nbformat": 4,
 "nbformat_minor": 5
}
